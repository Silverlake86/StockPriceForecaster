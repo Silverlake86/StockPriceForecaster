{
  "cells": [
    {
      "cell_type": "markdown",
      "metadata": {
        "id": "view-in-github",
        "colab_type": "text"
      },
      "source": [
        "<a href=\"https://colab.research.google.com/github/Silverlake86/StockPriceForecaster/blob/main/Stockprice_Forecasting_Machine_Learning.ipynb\" target=\"_parent\"><img src=\"https://colab.research.google.com/assets/colab-badge.svg\" alt=\"Open In Colab\"/></a>"
      ]
    },
    {
      "cell_type": "code",
      "execution_count": null,
      "id": "gentle-parallel",
      "metadata": {
        "id": "gentle-parallel"
      },
      "outputs": [],
      "source": [
        "import math\n",
        "import pandas_datareader as web\n",
        "import numpy as np\n",
        "import pandas as pd\n",
        "from sklearn.preprocessing import MinMaxScaler\n",
        "from keras.models import Sequential\n",
        "from keras.layers import Dense, LSTM\n",
        "import matplotlib.pyplot as plt\n",
        "plt.style.use('fivethirtyeight')"
      ]
    },
    {
      "cell_type": "code",
      "execution_count": null,
      "id": "acceptable-collar",
      "metadata": {
        "id": "acceptable-collar",
        "outputId": "ff135330-b70d-4f1a-b772-48ddfaec88b7"
      },
      "outputs": [
        {
          "data": {
            "text/html": [
              "<div>\n",
              "<style scoped>\n",
              "    .dataframe tbody tr th:only-of-type {\n",
              "        vertical-align: middle;\n",
              "    }\n",
              "\n",
              "    .dataframe tbody tr th {\n",
              "        vertical-align: top;\n",
              "    }\n",
              "\n",
              "    .dataframe thead th {\n",
              "        text-align: right;\n",
              "    }\n",
              "</style>\n",
              "<table border=\"1\" class=\"dataframe\">\n",
              "  <thead>\n",
              "    <tr style=\"text-align: right;\">\n",
              "      <th></th>\n",
              "      <th>High</th>\n",
              "      <th>Low</th>\n",
              "      <th>Open</th>\n",
              "      <th>Close</th>\n",
              "      <th>Volume</th>\n",
              "      <th>Adj Close</th>\n",
              "    </tr>\n",
              "    <tr>\n",
              "      <th>Date</th>\n",
              "      <th></th>\n",
              "      <th></th>\n",
              "      <th></th>\n",
              "      <th></th>\n",
              "      <th></th>\n",
              "      <th></th>\n",
              "    </tr>\n",
              "  </thead>\n",
              "  <tbody>\n",
              "    <tr>\n",
              "      <th>2012-01-03</th>\n",
              "      <td>14.732143</td>\n",
              "      <td>14.607143</td>\n",
              "      <td>14.621429</td>\n",
              "      <td>14.686786</td>\n",
              "      <td>302220800.0</td>\n",
              "      <td>12.650659</td>\n",
              "    </tr>\n",
              "    <tr>\n",
              "      <th>2012-01-04</th>\n",
              "      <td>14.810000</td>\n",
              "      <td>14.617143</td>\n",
              "      <td>14.642857</td>\n",
              "      <td>14.765714</td>\n",
              "      <td>260022000.0</td>\n",
              "      <td>12.718646</td>\n",
              "    </tr>\n",
              "    <tr>\n",
              "      <th>2012-01-05</th>\n",
              "      <td>14.948214</td>\n",
              "      <td>14.738214</td>\n",
              "      <td>14.819643</td>\n",
              "      <td>14.929643</td>\n",
              "      <td>271269600.0</td>\n",
              "      <td>12.859850</td>\n",
              "    </tr>\n",
              "    <tr>\n",
              "      <th>2012-01-06</th>\n",
              "      <td>15.098214</td>\n",
              "      <td>14.972143</td>\n",
              "      <td>14.991786</td>\n",
              "      <td>15.085714</td>\n",
              "      <td>318292800.0</td>\n",
              "      <td>12.994284</td>\n",
              "    </tr>\n",
              "    <tr>\n",
              "      <th>2012-01-09</th>\n",
              "      <td>15.276786</td>\n",
              "      <td>15.048214</td>\n",
              "      <td>15.196429</td>\n",
              "      <td>15.061786</td>\n",
              "      <td>394024400.0</td>\n",
              "      <td>12.973674</td>\n",
              "    </tr>\n",
              "    <tr>\n",
              "      <th>...</th>\n",
              "      <td>...</td>\n",
              "      <td>...</td>\n",
              "      <td>...</td>\n",
              "      <td>...</td>\n",
              "      <td>...</td>\n",
              "      <td>...</td>\n",
              "    </tr>\n",
              "    <tr>\n",
              "      <th>2020-12-11</th>\n",
              "      <td>122.760002</td>\n",
              "      <td>120.550003</td>\n",
              "      <td>122.430000</td>\n",
              "      <td>122.410004</td>\n",
              "      <td>86939800.0</td>\n",
              "      <td>122.227356</td>\n",
              "    </tr>\n",
              "    <tr>\n",
              "      <th>2020-12-14</th>\n",
              "      <td>123.349998</td>\n",
              "      <td>121.540001</td>\n",
              "      <td>122.599998</td>\n",
              "      <td>121.779999</td>\n",
              "      <td>79184500.0</td>\n",
              "      <td>121.598289</td>\n",
              "    </tr>\n",
              "    <tr>\n",
              "      <th>2020-12-15</th>\n",
              "      <td>127.900002</td>\n",
              "      <td>124.129997</td>\n",
              "      <td>124.339996</td>\n",
              "      <td>127.879997</td>\n",
              "      <td>157572300.0</td>\n",
              "      <td>127.689186</td>\n",
              "    </tr>\n",
              "    <tr>\n",
              "      <th>2020-12-16</th>\n",
              "      <td>128.369995</td>\n",
              "      <td>126.559998</td>\n",
              "      <td>127.410004</td>\n",
              "      <td>127.809998</td>\n",
              "      <td>98208600.0</td>\n",
              "      <td>127.619293</td>\n",
              "    </tr>\n",
              "    <tr>\n",
              "      <th>2020-12-17</th>\n",
              "      <td>129.580002</td>\n",
              "      <td>128.039993</td>\n",
              "      <td>128.899994</td>\n",
              "      <td>128.699997</td>\n",
              "      <td>94359800.0</td>\n",
              "      <td>128.507965</td>\n",
              "    </tr>\n",
              "  </tbody>\n",
              "</table>\n",
              "<p>2256 rows × 6 columns</p>\n",
              "</div>"
            ],
            "text/plain": [
              "                  High         Low        Open       Close       Volume  \\\n",
              "Date                                                                      \n",
              "2012-01-03   14.732143   14.607143   14.621429   14.686786  302220800.0   \n",
              "2012-01-04   14.810000   14.617143   14.642857   14.765714  260022000.0   \n",
              "2012-01-05   14.948214   14.738214   14.819643   14.929643  271269600.0   \n",
              "2012-01-06   15.098214   14.972143   14.991786   15.085714  318292800.0   \n",
              "2012-01-09   15.276786   15.048214   15.196429   15.061786  394024400.0   \n",
              "...                ...         ...         ...         ...          ...   \n",
              "2020-12-11  122.760002  120.550003  122.430000  122.410004   86939800.0   \n",
              "2020-12-14  123.349998  121.540001  122.599998  121.779999   79184500.0   \n",
              "2020-12-15  127.900002  124.129997  124.339996  127.879997  157572300.0   \n",
              "2020-12-16  128.369995  126.559998  127.410004  127.809998   98208600.0   \n",
              "2020-12-17  129.580002  128.039993  128.899994  128.699997   94359800.0   \n",
              "\n",
              "             Adj Close  \n",
              "Date                    \n",
              "2012-01-03   12.650659  \n",
              "2012-01-04   12.718646  \n",
              "2012-01-05   12.859850  \n",
              "2012-01-06   12.994284  \n",
              "2012-01-09   12.973674  \n",
              "...                ...  \n",
              "2020-12-11  122.227356  \n",
              "2020-12-14  121.598289  \n",
              "2020-12-15  127.689186  \n",
              "2020-12-16  127.619293  \n",
              "2020-12-17  128.507965  \n",
              "\n",
              "[2256 rows x 6 columns]"
            ]
          },
          "execution_count": 5,
          "metadata": {},
          "output_type": "execute_result"
        }
      ],
      "source": [
        "#Get the stock quote\n",
        "df = web.DataReader('AAPL', data_source = 'yahoo', start = '2012-01-01', end = '2020-12-17')\n",
        "\n",
        "#Show the data\n",
        "df"
      ]
    },
    {
      "cell_type": "code",
      "execution_count": null,
      "id": "weekly-expert",
      "metadata": {
        "id": "weekly-expert",
        "outputId": "190fe48e-ec2a-4b70-cae6-4127ee4ef0fe"
      },
      "outputs": [
        {
          "data": {
            "text/plain": [
              "(2256, 6)"
            ]
          },
          "execution_count": 6,
          "metadata": {},
          "output_type": "execute_result"
        }
      ],
      "source": [
        "#Get the number of rows and columns in the data set\n",
        "df.shape"
      ]
    },
    {
      "cell_type": "code",
      "execution_count": null,
      "id": "toxic-gregory",
      "metadata": {
        "id": "toxic-gregory",
        "outputId": "5cf38d17-99c5-417e-fe1e-e2a43f1b94ad"
      },
      "outputs": [
        {
          "data": {
            "image/png": "[encoded data removed]",
            "text/plain": [
              "<Figure size 1152x576 with 1 Axes>"
            ]
          },
          "metadata": {},
          "output_type": "display_data"
        }
      ],
      "source": [
        "#Visualize the closing price history\n",
        "plt.figure(figsize=(16, 8))\n",
        "plt.title('Close Price History')\n",
        "plt.plot(df['Close'])\n",
        "plt.xlabel('Date', fontsize = 18)\n",
        "plt.ylabel('Close Price USD ($)', fontsize = 18)\n",
        "plt.show()"
      ]
    },
    {
      "cell_type": "code",
      "execution_count": null,
      "id": "short-crack",
      "metadata": {
        "id": "short-crack",
        "outputId": "fb38bfd6-195d-498a-fccf-b7a8912036c6"
      },
      "outputs": [
        {
          "data": {
            "text/plain": [
              "1805"
            ]
          },
          "execution_count": 9,
          "metadata": {},
          "output_type": "execute_result"
        }
      ],
      "source": [
        "#Create a new Dataframe with only close column\n",
        "data = df.filter(['Close'])\n",
        "#Convert the Dataframe to a numpy array\n",
        "dataset = data.values\n",
        "#Get the number of rows to train the model on \n",
        "training_data_len = math.ceil( len(dataset) * .8 )\n",
        "\n",
        "training_data_len"
      ]
    },
    {
      "cell_type": "code",
      "execution_count": null,
      "id": "integral-syndication",
      "metadata": {
        "id": "integral-syndication",
        "outputId": "8ee393b8-afd9-4c9d-fff7-b03e49be3f9d"
      },
      "outputs": [
        {
          "data": {
            "text/plain": [
              "array([[0.0061488 ],\n",
              "       [0.00680526],\n",
              "       [0.00816869],\n",
              "       ...,\n",
              "       [0.94760156],\n",
              "       [0.94701935],\n",
              "       [0.95442167]])"
            ]
          },
          "execution_count": 10,
          "metadata": {},
          "output_type": "execute_result"
        }
      ],
      "source": [
        "#Scale the data\n",
        "scaler = MinMaxScaler(feature_range = (0, 1))\n",
        "scaled_data = scaler.fit_transform(dataset)\n",
        "\n",
        "scaled_data"
      ]
    },
    {
      "cell_type": "code",
      "execution_count": null,
      "id": "flexible-contents",
      "metadata": {
        "id": "flexible-contents",
        "outputId": "32cc5d87-7695-4d78-cf01-535378391deb"
      },
      "outputs": [
        {
          "name": "stdout",
          "output_type": "stream",
          "text": [
            "[array([0.0061488 , 0.00680526, 0.00816869, 0.00946678, 0.00926776,\n",
            "       0.00971629, 0.00951133, 0.00916676, 0.00869743, 0.01014998,\n",
            "       0.01145994, 0.01105596, 0.00884298, 0.01095496, 0.00887566,\n",
            "       0.01667305, 0.01607006, 0.01685722, 0.01855928, 0.01959001,\n",
            "       0.01950387, 0.01918604, 0.02054056, 0.02181487, 0.02325851,\n",
            "       0.0255903 , 0.03048855, 0.03056281, 0.03328967, 0.03532738,\n",
            "       0.03182525, 0.03317382, 0.03314709, 0.03692846, 0.0363908 ,\n",
            "       0.03738589, 0.0391741 , 0.0401692 , 0.04303567, 0.04512387,\n",
            "       0.04572687, 0.04593778, 0.04236733, 0.04150589, 0.04163362,\n",
            "       0.04499022, 0.04593482, 0.04796363, 0.05274602, 0.05912652,\n",
            "       0.0579324 , 0.05793537, 0.06254846, 0.0639921 , 0.06296431,\n",
            "       0.06202567, 0.06104839, 0.06429507, 0.06652291, 0.06745562])]\n",
            "[0.06515055661523342]\n",
            "\n",
            "[array([0.0061488 , 0.00680526, 0.00816869, 0.00946678, 0.00926776,\n",
            "       0.00971629, 0.00951133, 0.00916676, 0.00869743, 0.01014998,\n",
            "       0.01145994, 0.01105596, 0.00884298, 0.01095496, 0.00887566,\n",
            "       0.01667305, 0.01607006, 0.01685722, 0.01855928, 0.01959001,\n",
            "       0.01950387, 0.01918604, 0.02054056, 0.02181487, 0.02325851,\n",
            "       0.0255903 , 0.03048855, 0.03056281, 0.03328967, 0.03532738,\n",
            "       0.03182525, 0.03317382, 0.03314709, 0.03692846, 0.0363908 ,\n",
            "       0.03738589, 0.0391741 , 0.0401692 , 0.04303567, 0.04512387,\n",
            "       0.04572687, 0.04593778, 0.04236733, 0.04150589, 0.04163362,\n",
            "       0.04499022, 0.04593482, 0.04796363, 0.05274602, 0.05912652,\n",
            "       0.0579324 , 0.05793537, 0.06254846, 0.0639921 , 0.06296431,\n",
            "       0.06202567, 0.06104839, 0.06429507, 0.06652291, 0.06745562]), array([0.00680526, 0.00816869, 0.00946678, 0.00926776, 0.00971629,\n",
            "       0.00951133, 0.00916676, 0.00869743, 0.01014998, 0.01145994,\n",
            "       0.01105596, 0.00884298, 0.01095496, 0.00887566, 0.01667305,\n",
            "       0.01607006, 0.01685722, 0.01855928, 0.01959001, 0.01950387,\n",
            "       0.01918604, 0.02054056, 0.02181487, 0.02325851, 0.0255903 ,\n",
            "       0.03048855, 0.03056281, 0.03328967, 0.03532738, 0.03182525,\n",
            "       0.03317382, 0.03314709, 0.03692846, 0.0363908 , 0.03738589,\n",
            "       0.0391741 , 0.0401692 , 0.04303567, 0.04512387, 0.04572687,\n",
            "       0.04593778, 0.04236733, 0.04150589, 0.04163362, 0.04499022,\n",
            "       0.04593482, 0.04796363, 0.05274602, 0.05912652, 0.0579324 ,\n",
            "       0.05793537, 0.06254846, 0.0639921 , 0.06296431, 0.06202567,\n",
            "       0.06104839, 0.06429507, 0.06652291, 0.06745562, 0.06515056])]\n",
            "[0.06515055661523342, 0.062088042929699744]\n",
            "\n"
          ]
        }
      ],
      "source": [
        "#Create the training data set\n",
        "#Create the scaled training data set\n",
        "train_data = scaled_data[0:training_data_len, :]\n",
        "\n",
        "#Split the data into x_train and y_train data sets\n",
        "x_train = []\n",
        "y_train = []\n",
        "\n",
        "for i in range (60, len(train_data)):\n",
        "    x_train.append(train_data[i - 60:i, 0])\n",
        "    y_train.append(train_data[i, 0])\n",
        "    if i <= 61:\n",
        "        print(x_train)\n",
        "        print(y_train)\n",
        "        print()\n"
      ]
    },
    {
      "cell_type": "code",
      "execution_count": null,
      "id": "pacific-vegetation",
      "metadata": {
        "id": "pacific-vegetation"
      },
      "outputs": [],
      "source": [
        "#Convert the x_train and y_train to numpy arrays\n",
        "x_train, y_train = np.array(x_train), np.array(y_train)"
      ]
    },
    {
      "cell_type": "code",
      "execution_count": null,
      "id": "noticed-original",
      "metadata": {
        "id": "noticed-original",
        "outputId": "c2789b9a-fc4f-484d-dca4-e06bc97b7ce7"
      },
      "outputs": [
        {
          "data": {
            "text/plain": [
              "(1745, 60, 1)"
            ]
          },
          "execution_count": 22,
          "metadata": {},
          "output_type": "execute_result"
        }
      ],
      "source": [
        "#Reshape the data\n",
        "x_train = np.reshape(x_train, (x_train.shape[0], x_train.shape[1], 1)) #1 is for the closing price, \n",
        "x_train.shape #2 Dimensional Model"
      ]
    },
    {
      "cell_type": "code",
      "execution_count": null,
      "id": "framed-algeria",
      "metadata": {
        "id": "framed-algeria"
      },
      "outputs": [],
      "source": [
        "#Build the LSTM Model\n",
        "model = Sequential()\n",
        "model.add(LSTM(50, return_sequences = True, input_shape = (x_train.shape[1], 1)))\n",
        "model.add(LSTM(50, return_sequences = False))\n",
        "model.add(Dense(25))\n",
        "model.add(Dense(1))"
      ]
    },
    {
      "cell_type": "code",
      "execution_count": null,
      "id": "centered-hampton",
      "metadata": {
        "id": "centered-hampton"
      },
      "outputs": [],
      "source": [
        "#Compile the model\n",
        "model.compile(optimizer = 'adam', loss = 'mean_squared_error')"
      ]
    },
    {
      "cell_type": "code",
      "execution_count": null,
      "id": "geographic-audience",
      "metadata": {
        "id": "geographic-audience",
        "outputId": "f0c61a73-513e-4749-adf2-224e01b8b909"
      },
      "outputs": [
        {
          "name": "stdout",
          "output_type": "stream",
          "text": [
            "1745/1745 [==============================] - 39s 22ms/step - loss: 2.4034e-04\n"
          ]
        },
        {
          "data": {
            "text/plain": [
              "<tensorflow.python.keras.callbacks.History at 0x1ffed0cdac0>"
            ]
          },
          "execution_count": 25,
          "metadata": {},
          "output_type": "execute_result"
        }
      ],
      "source": [
        "#Train the Model\n",
        "model.fit(x_train, y_train, batch_size = 1, epochs = 1)"
      ]
    },
    {
      "cell_type": "code",
      "execution_count": null,
      "id": "unlikely-innocent",
      "metadata": {
        "id": "unlikely-innocent"
      },
      "outputs": [],
      "source": [
        "#Create the testing data set\n",
        "#Create a new array containing scaled values from index 1543 to 2256\n",
        "test_data = scaled_data[training_data_len - 60: , :]\n",
        "\n",
        "#Create the data sets x_test and y_test\n",
        "x_test = []\n",
        "y_test = dataset[training_data_len:, :]\n",
        "for i in range(60, len(test_data)):\n",
        "    x_test.append(test_data[i - 60:i, 0])\n",
        "    "
      ]
    },
    {
      "cell_type": "code",
      "execution_count": null,
      "id": "opposite-diagnosis",
      "metadata": {
        "id": "opposite-diagnosis"
      },
      "outputs": [],
      "source": [
        "#Convert the data to a numpy array\n",
        "x_test = np.array(x_test)"
      ]
    },
    {
      "cell_type": "code",
      "execution_count": null,
      "id": "sustained-tracy",
      "metadata": {
        "id": "sustained-tracy"
      },
      "outputs": [],
      "source": [
        "#Reshape the data \n",
        "x_test = np.reshape(x_test, (x_test.shape[0], x_test.shape[1], 1))"
      ]
    },
    {
      "cell_type": "code",
      "execution_count": null,
      "id": "overall-nursing",
      "metadata": {
        "id": "overall-nursing"
      },
      "outputs": [],
      "source": [
        "#Get the models predicted price values\n",
        "predictions = model.predict(x_test)\n",
        "predictions = scaler.inverse_transform(predictions)"
      ]
    },
    {
      "cell_type": "code",
      "execution_count": null,
      "id": "impressed-thong",
      "metadata": {
        "id": "impressed-thong",
        "outputId": "ef0a988b-f771-49f0-e2bc-1a4266c38022"
      },
      "outputs": [
        {
          "data": {
            "text/plain": [
              "3.1214755580589144"
            ]
          },
          "execution_count": 31,
          "metadata": {},
          "output_type": "execute_result"
        }
      ],
      "source": [
        "#Get the root mean squared error (RMSE)\n",
        "rmse = np.sqrt( np.mean(predictions - y_test )**2)\n",
        "rmse"
      ]
    },
    {
      "cell_type": "code",
      "execution_count": null,
      "id": "behind-cleaner",
      "metadata": {
        "id": "behind-cleaner",
        "outputId": "4b9b34e5-ffcf-4a50-d481-ced5c86722fb"
      },
      "outputs": [
        {
          "name": "stderr",
          "output_type": "stream",
          "text": [
            "<ipython-input-32-9770d9b6b330>:4: SettingWithCopyWarning: \n",
            "A value is trying to be set on a copy of a slice from a DataFrame.\n",
            "Try using .loc[row_indexer,col_indexer] = value instead\n",
            "\n",
            "See the caveats in the documentation: https://pandas.pydata.org/pandas-docs/stable/user_guide/indexing.html#returning-a-view-versus-a-copy\n",
            "  valid['Predictions'] = predictions\n"
          ]
        },
        {
          "data": {
            "text/plain": [
              "<function matplotlib.pyplot.show(close=None, block=None)>"
            ]
          },
          "execution_count": 32,
          "metadata": {},
          "output_type": "execute_result"
        },
        {
          "data": {
            "image/png": "[encoded data removed]",
            "text/plain": [
              "<Figure size 1152x576 with 1 Axes>"
            ]
          },
          "metadata": {},
          "output_type": "display_data"
        }
      ],
      "source": [
        "#Plot the data\n",
        "train = data[:training_data_len]\n",
        "valid = data[training_data_len:]\n",
        "valid['Predictions'] = predictions\n",
        "\n",
        "#Visualize the data\n",
        "plt.figure(figsize = (16, 8))\n",
        "plt.title('Model')\n",
        "plt.xlabel('Date', fontsize = 18)\n",
        "plt.ylabel('Close Price USD ($)', fontsize = 18)\n",
        "plt.plot(train['Close'])\n",
        "plt.plot(valid[['Close', 'Predictions']])\n",
        "plt.legend(['Train', 'Val', 'Predictions'], loc = 'lower right')\n",
        "plt.show"
      ]
    },
    {
      "cell_type": "code",
      "execution_count": null,
      "id": "linear-contributor",
      "metadata": {
        "id": "linear-contributor",
        "outputId": "d5abcd49-af30-4ed2-d7da-3305afb8e785"
      },
      "outputs": [
        {
          "data": {
            "text/html": [
              "<div>\n",
              "<style scoped>\n",
              "    .dataframe tbody tr th:only-of-type {\n",
              "        vertical-align: middle;\n",
              "    }\n",
              "\n",
              "    .dataframe tbody tr th {\n",
              "        vertical-align: top;\n",
              "    }\n",
              "\n",
              "    .dataframe thead th {\n",
              "        text-align: right;\n",
              "    }\n",
              "</style>\n",
              "<table border=\"1\" class=\"dataframe\">\n",
              "  <thead>\n",
              "    <tr style=\"text-align: right;\">\n",
              "      <th></th>\n",
              "      <th>Close</th>\n",
              "      <th>Predictions</th>\n",
              "    </tr>\n",
              "    <tr>\n",
              "      <th>Date</th>\n",
              "      <th></th>\n",
              "      <th></th>\n",
              "    </tr>\n",
              "  </thead>\n",
              "  <tbody>\n",
              "    <tr>\n",
              "      <th>2019-03-08</th>\n",
              "      <td>43.227501</td>\n",
              "      <td>43.575123</td>\n",
              "    </tr>\n",
              "    <tr>\n",
              "      <th>2019-03-11</th>\n",
              "      <td>44.724998</td>\n",
              "      <td>43.511883</td>\n",
              "    </tr>\n",
              "    <tr>\n",
              "      <th>2019-03-12</th>\n",
              "      <td>45.227501</td>\n",
              "      <td>43.621792</td>\n",
              "    </tr>\n",
              "    <tr>\n",
              "      <th>2019-03-13</th>\n",
              "      <td>45.427502</td>\n",
              "      <td>43.857414</td>\n",
              "    </tr>\n",
              "    <tr>\n",
              "      <th>2019-03-14</th>\n",
              "      <td>45.932499</td>\n",
              "      <td>44.146667</td>\n",
              "    </tr>\n",
              "    <tr>\n",
              "      <th>...</th>\n",
              "      <td>...</td>\n",
              "      <td>...</td>\n",
              "    </tr>\n",
              "    <tr>\n",
              "      <th>2020-12-11</th>\n",
              "      <td>122.410004</td>\n",
              "      <td>115.850464</td>\n",
              "    </tr>\n",
              "    <tr>\n",
              "      <th>2020-12-14</th>\n",
              "      <td>121.779999</td>\n",
              "      <td>115.847282</td>\n",
              "    </tr>\n",
              "    <tr>\n",
              "      <th>2020-12-15</th>\n",
              "      <td>127.879997</td>\n",
              "      <td>115.703018</td>\n",
              "    </tr>\n",
              "    <tr>\n",
              "      <th>2020-12-16</th>\n",
              "      <td>127.809998</td>\n",
              "      <td>116.359558</td>\n",
              "    </tr>\n",
              "    <tr>\n",
              "      <th>2020-12-17</th>\n",
              "      <td>128.699997</td>\n",
              "      <td>117.188805</td>\n",
              "    </tr>\n",
              "  </tbody>\n",
              "</table>\n",
              "<p>451 rows × 2 columns</p>\n",
              "</div>"
            ],
            "text/plain": [
              "                 Close  Predictions\n",
              "Date                               \n",
              "2019-03-08   43.227501    43.575123\n",
              "2019-03-11   44.724998    43.511883\n",
              "2019-03-12   45.227501    43.621792\n",
              "2019-03-13   45.427502    43.857414\n",
              "2019-03-14   45.932499    44.146667\n",
              "...                ...          ...\n",
              "2020-12-11  122.410004   115.850464\n",
              "2020-12-14  121.779999   115.847282\n",
              "2020-12-15  127.879997   115.703018\n",
              "2020-12-16  127.809998   116.359558\n",
              "2020-12-17  128.699997   117.188805\n",
              "\n",
              "[451 rows x 2 columns]"
            ]
          },
          "execution_count": 33,
          "metadata": {},
          "output_type": "execute_result"
        }
      ],
      "source": [
        "#Show the value and predicted prices\n",
        "valid"
      ]
    },
    {
      "cell_type": "code",
      "execution_count": null,
      "id": "downtown-australian",
      "metadata": {
        "id": "downtown-australian",
        "outputId": "a1d1644f-1556-4f77-fb97-5e1dc813c6d7"
      },
      "outputs": [
        {
          "name": "stdout",
          "output_type": "stream",
          "text": [
            "[[118.103195]]\n"
          ]
        }
      ],
      "source": [
        "#Get the quote\n",
        "apple_quote = web.DataReader('AAPL', data_source = 'yahoo', start = '2012-01-01', end = '2020-12-17')\n",
        "\n",
        "#Create a new dataframe\n",
        "new_df = apple_quote.filter(['Close'])\n",
        "\n",
        "#Get the last 60 days closing price values and convert the dataframe to an array\n",
        "last_60_days = new_df[-60:].values\n",
        "\n",
        "#Scale the data to be values between 0 \n",
        "last_60_days_scaled = scaler.transform(last_60_days)\n",
        "\n",
        "#Create an empty list\n",
        "X_test = []\n",
        "\n",
        "#Append the past 60 days\n",
        "X_test.append(last_60_days_scaled)\n",
        "\n",
        "#Convert the X_test data set to a numpy array \n",
        "X_test = np.array(X_test)\n",
        "\n",
        "#Reshape the data \n",
        "X_test = np.reshape(X_test, (X_test.shape[0], X_test.shape[1], 1))\n",
        "\n",
        "#Get the predicted scaled price\n",
        "pred_price = model.predict(X_test)\n",
        "\n",
        "#undo the scaliing\n",
        "prediction_price = scaler.inverse_transform(pred_price)\n",
        "print(prediction_price)"
      ]
    },
    {
      "cell_type": "code",
      "execution_count": null,
      "id": "collaborative-content",
      "metadata": {
        "id": "collaborative-content",
        "outputId": "7f955aae-550e-4b57-d8f8-79db45516dd3"
      },
      "outputs": [
        {
          "name": "stdout",
          "output_type": "stream",
          "text": [
            "Date\n",
            "2020-12-16    127.809998\n",
            "2020-12-17    128.699997\n",
            "Name: Close, dtype: float64\n"
          ]
        }
      ],
      "source": [
        "#Get the quote\n",
        "apple_quote2 = web.DataReader('AAPL', data_source = 'yahoo', start = '2020-12-17', end = '2020-12-17')\n",
        "print(apple_quote2['Close'])"
      ]
    },
    {
      "cell_type": "code",
      "execution_count": null,
      "id": "upset-beijing",
      "metadata": {
        "id": "upset-beijing"
      },
      "outputs": [],
      "source": [
        ""
      ]
    }
  ],
  "metadata": {
    "kernelspec": {
      "display_name": "Python 3",
      "language": "python",
      "name": "python3"
    },
    "language_info": {
      "codemirror_mode": {
        "name": "ipython",
        "version": 3
      },
      "file_extension": ".py",
      "mimetype": "text/x-python",
      "name": "python",
      "nbconvert_exporter": "python",
      "pygments_lexer": "ipython3",
      "version": "3.8.5"
    },
    "colab": {
      "name": "Stockprice Forecasting - Machine Learning.ipynb",
      "provenance": [],
      "include_colab_link": true
    }
  },
  "nbformat": 4,
  "nbformat_minor": 5
}